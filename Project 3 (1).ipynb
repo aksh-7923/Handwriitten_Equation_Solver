{
 "cells": [
  {
   "cell_type": "markdown",
   "id": "a6ee66b5",
   "metadata": {},
   "source": [
    "# **Handwritten Equation Solver**"
   ]
  },
  {
   "cell_type": "markdown",
   "id": "7deb477b",
   "metadata": {},
   "source": [
    "**Importing necessary dependencies** "
   ]
  },
  {
   "cell_type": "code",
   "execution_count": 1,
   "id": "6e3c03b5",
   "metadata": {},
   "outputs": [],
   "source": [
    "import os\n",
    "import cv2\n",
    "import numpy as np\n",
    "import pandas as pd\n",
    "from PIL import Image\n",
    "from os import listdir\n",
    "from os.path import isfile, join\n",
    "from matplotlib import pyplot as plt"
   ]
  },
  {
   "cell_type": "markdown",
   "id": "38e05f4d",
   "metadata": {},
   "source": [
    "**Defining function to read images and performing various operations**"
   ]
  },
  {
   "cell_type": "code",
   "execution_count": 2,
   "id": "e3c4d222",
   "metadata": {},
   "outputs": [],
   "source": [
    "def load_img_from_folder(folder):\n",
    "    train_data = []\n",
    "    for filename in np.random.choice(os.listdir(folder), 4000):\n",
    "        img = cv2.imread(os.path.join(folder, filename), cv2.IMREAD_GRAYSCALE)\n",
    "        img=~img\n",
    "        #only one time\n",
    "        #cv2.imshow(\"frame\", img)\n",
    "        if img is not None:\n",
    "            _, thresh = cv2.threshold(img, 127, 255, cv2.THRESH_BINARY)\n",
    "            ctrs,_ = cv2.findContours(thresh, cv2.RETR_EXTERNAL, cv2.CHAIN_APPROX_NONE)\n",
    "            #cnt = sorted(ctrs , key = lambda ctr: cv2.boundingRect(ctr)[0])\n",
    "            #change variable cnt to ctrs\n",
    "            #w = int(28)\n",
    "            #h = int(28)\n",
    "            max_ = 0\n",
    "            for c in ctrs:\n",
    "                x, y, w, h = cv2.boundingRect(c)\n",
    "                max_ = max(w*h, max_)\n",
    "                if max_ == w*h:\n",
    "                    x_max = x\n",
    "                    y_max = y\n",
    "                    w_max = w\n",
    "                    h_max = h\n",
    "                    \n",
    "            im_crop = thresh[y_max:(y_max+h_max+10), x_max:(x_max+w_max+10)]\n",
    "            im_resize = cv2.resize(im_crop, (28, 28))\n",
    "            im_resize = np.reshape(im_resize, (784, 1))\n",
    "            train_data.append(im_resize)\n",
    "    return train_data"
   ]
  },
  {
   "cell_type": "markdown",
   "id": "d3e82273",
   "metadata": {},
   "source": [
    "**Creating the Training Set**"
   ]
  },
  {
   "cell_type": "code",
   "execution_count": 3,
   "id": "0551767b",
   "metadata": {},
   "outputs": [],
   "source": [
    "data = []"
   ]
  },
  {
   "cell_type": "code",
   "execution_count": 4,
   "id": "9c04d87b",
   "metadata": {},
   "outputs": [
    {
     "name": "stdout",
     "output_type": "stream",
     "text": [
      "4000\n"
     ]
    }
   ],
   "source": [
    "#assign \"-\" = 10\n",
    "data = load_img_from_folder(\"C:\\\\Users\\\\DELL\\\\Downloads\\\\archive (2)\\\\extracted_images\\\\Symbol\\\\-\")\n",
    "for i in range(len(data)):\n",
    "    data[i] = np.append(data[i], [10])\n",
    "print(len(data))"
   ]
  },
  {
   "cell_type": "code",
   "execution_count": 5,
   "id": "0e0fdd51",
   "metadata": {},
   "outputs": [
    {
     "name": "stdout",
     "output_type": "stream",
     "text": [
      "8000\n"
     ]
    }
   ],
   "source": [
    "#assign \"+\" = 11\n",
    "data1 = load_img_from_folder(\"C:\\\\Users\\\\DELL\\\\Downloads\\\\archive (2)\\\\extracted_images\\\\Symbol\\\\+\")\n",
    "for i in range(len(data1)):\n",
    "    data1[i] = np.append(data1[i], [11])\n",
    "\n",
    "data = np.concatenate((data, data1))\n",
    "print(len(data))"
   ]
  },
  {
   "cell_type": "code",
   "execution_count": 6,
   "id": "a573e83f",
   "metadata": {},
   "outputs": [
    {
     "name": "stdout",
     "output_type": "stream",
     "text": [
      "12000\n"
     ]
    }
   ],
   "source": [
    "data2 = load_img_from_folder(\"C:\\\\Users\\\\DELL\\\\Downloads\\\\archive (2)\\\\extracted_images\\\\Symbol\\\\0\")\n",
    "for i in range(len(data2)):\n",
    "    data2[i] = np.append(data2[i], [0])\n",
    "\n",
    "data = np.concatenate((data, data2))\n",
    "print(len(data))"
   ]
  },
  {
   "cell_type": "code",
   "execution_count": 7,
   "id": "f9991867",
   "metadata": {
    "scrolled": true
   },
   "outputs": [
    {
     "name": "stdout",
     "output_type": "stream",
     "text": [
      "16000\n"
     ]
    }
   ],
   "source": [
    "data3 = load_img_from_folder(\"C:\\\\Users\\\\DELL\\\\Downloads\\\\archive (2)\\\\extracted_images\\\\Symbol\\\\1\")\n",
    "for i in range(len(data3)):\n",
    "    data3[i] = np.append(data3[i], [1])\n",
    "\n",
    "data = np.concatenate((data, data3))\n",
    "print(len(data))"
   ]
  },
  {
   "cell_type": "code",
   "execution_count": 8,
   "id": "05426b39",
   "metadata": {},
   "outputs": [
    {
     "name": "stdout",
     "output_type": "stream",
     "text": [
      "20000\n"
     ]
    }
   ],
   "source": [
    "data4 = load_img_from_folder(\"C:\\\\Users\\\\DELL\\\\Downloads\\\\archive (2)\\\\extracted_images\\\\Symbol\\\\2\")\n",
    "for i in range(len(data4)):\n",
    "    data4[i] = np.append(data4[i], [2])\n",
    "\n",
    "data = np.concatenate((data, data4))\n",
    "print(len(data))"
   ]
  },
  {
   "cell_type": "code",
   "execution_count": 9,
   "id": "53f84006",
   "metadata": {},
   "outputs": [
    {
     "name": "stdout",
     "output_type": "stream",
     "text": [
      "24000\n"
     ]
    }
   ],
   "source": [
    "data5 = load_img_from_folder(\"C:\\\\Users\\\\DELL\\\\Downloads\\\\archive (2)\\\\extracted_images\\\\Symbol\\\\3\")\n",
    "for i in range(len(data5)):\n",
    "    data5[i] = np.append(data5[i], [3])\n",
    "\n",
    "data = np.concatenate((data, data5))\n",
    "print(len(data))"
   ]
  },
  {
   "cell_type": "code",
   "execution_count": 10,
   "id": "7771dcc4",
   "metadata": {},
   "outputs": [
    {
     "name": "stdout",
     "output_type": "stream",
     "text": [
      "28000\n"
     ]
    }
   ],
   "source": [
    "data6 = load_img_from_folder(\"C:\\\\Users\\\\DELL\\\\Downloads\\\\archive (2)\\\\extracted_images\\\\Symbol\\\\4\")\n",
    "for i in range(len(data6)):\n",
    "    data6[i] = np.append(data6[i], [4])\n",
    "\n",
    "data = np.concatenate((data, data6))\n",
    "print(len(data))"
   ]
  },
  {
   "cell_type": "code",
   "execution_count": 11,
   "id": "5897b206",
   "metadata": {},
   "outputs": [
    {
     "name": "stdout",
     "output_type": "stream",
     "text": [
      "32000\n"
     ]
    }
   ],
   "source": [
    "data7 = load_img_from_folder(\"C:\\\\Users\\\\DELL\\\\Downloads\\\\archive (2)\\\\extracted_images\\\\Symbol\\\\5\")\n",
    "for i in range(len(data7)):\n",
    "    data7[i] = np.append(data7[i], [5])\n",
    "\n",
    "data = np.concatenate((data, data7))\n",
    "print(len(data))"
   ]
  },
  {
   "cell_type": "code",
   "execution_count": 12,
   "id": "1083462f",
   "metadata": {},
   "outputs": [
    {
     "name": "stdout",
     "output_type": "stream",
     "text": [
      "36000\n"
     ]
    }
   ],
   "source": [
    "data8 = load_img_from_folder(\"C:\\\\Users\\\\DELL\\\\Downloads\\\\archive (2)\\\\extracted_images\\\\Symbol\\\\6\")\n",
    "for i in range(len(data8)):\n",
    "    data8[i] = np.append(data8[i], [6])\n",
    "\n",
    "data = np.concatenate((data, data8))\n",
    "print(len(data))"
   ]
  },
  {
   "cell_type": "code",
   "execution_count": 13,
   "id": "01d7fbf6",
   "metadata": {},
   "outputs": [
    {
     "name": "stdout",
     "output_type": "stream",
     "text": [
      "40000\n"
     ]
    }
   ],
   "source": [
    "data9 = load_img_from_folder(\"C:\\\\Users\\\\DELL\\\\Downloads\\\\archive (2)\\\\extracted_images\\\\Symbol\\\\7\")\n",
    "for i in range(len(data9)):\n",
    "    data9[i] = np.append(data9[i], [7])\n",
    "\n",
    "data = np.concatenate((data, data9))\n",
    "print(len(data))"
   ]
  },
  {
   "cell_type": "code",
   "execution_count": 14,
   "id": "07c5c3e2",
   "metadata": {},
   "outputs": [
    {
     "name": "stdout",
     "output_type": "stream",
     "text": [
      "44000\n"
     ]
    }
   ],
   "source": [
    "data10 = load_img_from_folder(\"C:\\\\Users\\\\DELL\\\\Downloads\\\\archive (2)\\\\extracted_images\\\\Symbol\\\\8\")\n",
    "for i in range(len(data10)):\n",
    "    data10[i] = np.append(data10[i], [8])\n",
    "\n",
    "data = np.concatenate((data, data10))\n",
    "print(len(data))"
   ]
  },
  {
   "cell_type": "code",
   "execution_count": 15,
   "id": "c037d1bd",
   "metadata": {},
   "outputs": [
    {
     "name": "stdout",
     "output_type": "stream",
     "text": [
      "48000\n"
     ]
    }
   ],
   "source": [
    "data11 = load_img_from_folder(\"C:\\\\Users\\\\DELL\\\\Downloads\\\\archive (2)\\\\extracted_images\\\\Symbol\\\\9\")\n",
    "for i in range(len(data11)):\n",
    "    data11[i] = np.append(data11[i], [9])\n",
    "\n",
    "data = np.concatenate((data, data11))\n",
    "print(len(data))"
   ]
  },
  {
   "cell_type": "code",
   "execution_count": 16,
   "id": "581a72ac",
   "metadata": {},
   "outputs": [
    {
     "name": "stdout",
     "output_type": "stream",
     "text": [
      "52000\n"
     ]
    }
   ],
   "source": [
    "data12 = load_img_from_folder(\"C:\\\\Users\\\\DELL\\\\Downloads\\\\archive (2)\\\\extracted_images\\\\Symbol\\\\x\")\n",
    "for i in range(len(data12)):\n",
    "    data12[i] = np.append(data12[i], [12])\n",
    "\n",
    "data = np.concatenate((data, data12))\n",
    "print(len(data))"
   ]
  },
  {
   "cell_type": "code",
   "execution_count": 17,
   "id": "eb6f6bbb",
   "metadata": {},
   "outputs": [
    {
     "data": {
      "text/plain": [
       "(52000, 785)"
      ]
     },
     "execution_count": 17,
     "metadata": {},
     "output_type": "execute_result"
    }
   ],
   "source": [
    "data.shape"
   ]
  },
  {
   "cell_type": "markdown",
   "id": "e770639e",
   "metadata": {},
   "source": [
    "**Final Training Set**"
   ]
  },
  {
   "cell_type": "code",
   "execution_count": 18,
   "id": "0b7d3fb3",
   "metadata": {},
   "outputs": [],
   "source": [
    "df_train = pd.DataFrame(data, index = None)"
   ]
  },
  {
   "cell_type": "code",
   "execution_count": 19,
   "id": "40fba696",
   "metadata": {},
   "outputs": [
    {
     "data": {
      "text/plain": [
       "(52000, 785)"
      ]
     },
     "execution_count": 19,
     "metadata": {},
     "output_type": "execute_result"
    }
   ],
   "source": [
    "df_train.shape"
   ]
  },
  {
   "cell_type": "code",
   "execution_count": 20,
   "id": "0541a8da",
   "metadata": {},
   "outputs": [
    {
     "data": {
      "text/html": [
       "<div>\n",
       "<style scoped>\n",
       "    .dataframe tbody tr th:only-of-type {\n",
       "        vertical-align: middle;\n",
       "    }\n",
       "\n",
       "    .dataframe tbody tr th {\n",
       "        vertical-align: top;\n",
       "    }\n",
       "\n",
       "    .dataframe thead th {\n",
       "        text-align: right;\n",
       "    }\n",
       "</style>\n",
       "<table border=\"1\" class=\"dataframe\">\n",
       "  <thead>\n",
       "    <tr style=\"text-align: right;\">\n",
       "      <th></th>\n",
       "      <th>0</th>\n",
       "      <th>1</th>\n",
       "      <th>2</th>\n",
       "      <th>3</th>\n",
       "      <th>4</th>\n",
       "      <th>5</th>\n",
       "      <th>6</th>\n",
       "      <th>7</th>\n",
       "      <th>8</th>\n",
       "      <th>9</th>\n",
       "      <th>...</th>\n",
       "      <th>775</th>\n",
       "      <th>776</th>\n",
       "      <th>777</th>\n",
       "      <th>778</th>\n",
       "      <th>779</th>\n",
       "      <th>780</th>\n",
       "      <th>781</th>\n",
       "      <th>782</th>\n",
       "      <th>783</th>\n",
       "      <th>784</th>\n",
       "    </tr>\n",
       "  </thead>\n",
       "  <tbody>\n",
       "    <tr>\n",
       "      <th>0</th>\n",
       "      <td>255</td>\n",
       "      <td>255</td>\n",
       "      <td>255</td>\n",
       "      <td>255</td>\n",
       "      <td>255</td>\n",
       "      <td>255</td>\n",
       "      <td>255</td>\n",
       "      <td>255</td>\n",
       "      <td>0</td>\n",
       "      <td>0</td>\n",
       "      <td>...</td>\n",
       "      <td>0</td>\n",
       "      <td>0</td>\n",
       "      <td>0</td>\n",
       "      <td>0</td>\n",
       "      <td>0</td>\n",
       "      <td>0</td>\n",
       "      <td>0</td>\n",
       "      <td>0</td>\n",
       "      <td>0</td>\n",
       "      <td>10</td>\n",
       "    </tr>\n",
       "    <tr>\n",
       "      <th>1</th>\n",
       "      <td>0</td>\n",
       "      <td>0</td>\n",
       "      <td>0</td>\n",
       "      <td>0</td>\n",
       "      <td>0</td>\n",
       "      <td>0</td>\n",
       "      <td>0</td>\n",
       "      <td>0</td>\n",
       "      <td>0</td>\n",
       "      <td>0</td>\n",
       "      <td>...</td>\n",
       "      <td>0</td>\n",
       "      <td>0</td>\n",
       "      <td>0</td>\n",
       "      <td>0</td>\n",
       "      <td>0</td>\n",
       "      <td>0</td>\n",
       "      <td>0</td>\n",
       "      <td>0</td>\n",
       "      <td>0</td>\n",
       "      <td>10</td>\n",
       "    </tr>\n",
       "    <tr>\n",
       "      <th>2</th>\n",
       "      <td>0</td>\n",
       "      <td>0</td>\n",
       "      <td>0</td>\n",
       "      <td>0</td>\n",
       "      <td>0</td>\n",
       "      <td>0</td>\n",
       "      <td>0</td>\n",
       "      <td>0</td>\n",
       "      <td>0</td>\n",
       "      <td>0</td>\n",
       "      <td>...</td>\n",
       "      <td>0</td>\n",
       "      <td>0</td>\n",
       "      <td>0</td>\n",
       "      <td>0</td>\n",
       "      <td>0</td>\n",
       "      <td>0</td>\n",
       "      <td>0</td>\n",
       "      <td>0</td>\n",
       "      <td>0</td>\n",
       "      <td>10</td>\n",
       "    </tr>\n",
       "    <tr>\n",
       "      <th>3</th>\n",
       "      <td>0</td>\n",
       "      <td>0</td>\n",
       "      <td>255</td>\n",
       "      <td>0</td>\n",
       "      <td>0</td>\n",
       "      <td>0</td>\n",
       "      <td>0</td>\n",
       "      <td>0</td>\n",
       "      <td>0</td>\n",
       "      <td>0</td>\n",
       "      <td>...</td>\n",
       "      <td>0</td>\n",
       "      <td>0</td>\n",
       "      <td>0</td>\n",
       "      <td>0</td>\n",
       "      <td>0</td>\n",
       "      <td>0</td>\n",
       "      <td>0</td>\n",
       "      <td>0</td>\n",
       "      <td>0</td>\n",
       "      <td>10</td>\n",
       "    </tr>\n",
       "    <tr>\n",
       "      <th>4</th>\n",
       "      <td>255</td>\n",
       "      <td>255</td>\n",
       "      <td>255</td>\n",
       "      <td>255</td>\n",
       "      <td>255</td>\n",
       "      <td>255</td>\n",
       "      <td>255</td>\n",
       "      <td>255</td>\n",
       "      <td>255</td>\n",
       "      <td>255</td>\n",
       "      <td>...</td>\n",
       "      <td>0</td>\n",
       "      <td>0</td>\n",
       "      <td>0</td>\n",
       "      <td>0</td>\n",
       "      <td>0</td>\n",
       "      <td>0</td>\n",
       "      <td>0</td>\n",
       "      <td>0</td>\n",
       "      <td>0</td>\n",
       "      <td>10</td>\n",
       "    </tr>\n",
       "  </tbody>\n",
       "</table>\n",
       "<p>5 rows × 785 columns</p>\n",
       "</div>"
      ],
      "text/plain": [
       "   0    1    2    3    4    5    6    7    8    9    ...  775  776  777  778  \\\n",
       "0  255  255  255  255  255  255  255  255    0    0  ...    0    0    0    0   \n",
       "1    0    0    0    0    0    0    0    0    0    0  ...    0    0    0    0   \n",
       "2    0    0    0    0    0    0    0    0    0    0  ...    0    0    0    0   \n",
       "3    0    0  255    0    0    0    0    0    0    0  ...    0    0    0    0   \n",
       "4  255  255  255  255  255  255  255  255  255  255  ...    0    0    0    0   \n",
       "\n",
       "   779  780  781  782  783  784  \n",
       "0    0    0    0    0    0   10  \n",
       "1    0    0    0    0    0   10  \n",
       "2    0    0    0    0    0   10  \n",
       "3    0    0    0    0    0   10  \n",
       "4    0    0    0    0    0   10  \n",
       "\n",
       "[5 rows x 785 columns]"
      ]
     },
     "execution_count": 20,
     "metadata": {},
     "output_type": "execute_result"
    }
   ],
   "source": [
    "df_train.head()"
   ]
  },
  {
   "cell_type": "markdown",
   "id": "cf2e50b5",
   "metadata": {},
   "source": [
    "**Converting Labels to Categorical data**"
   ]
  },
  {
   "cell_type": "code",
   "execution_count": 21,
   "id": "9cdfc41a",
   "metadata": {},
   "outputs": [],
   "source": [
    "labels = df_train.iloc[:, -1].values\n",
    "from keras.utils.np_utils import to_categorical\n",
    "cat = to_categorical(labels, num_classes = 13)"
   ]
  },
  {
   "cell_type": "code",
   "execution_count": 22,
   "id": "e376507f",
   "metadata": {},
   "outputs": [
    {
     "name": "stdout",
     "output_type": "stream",
     "text": [
      "[0. 0. 0. 0. 0. 0. 0. 0. 0. 0. 1. 0. 0.]\n"
     ]
    }
   ],
   "source": [
    "print(cat[0])"
   ]
  },
  {
   "cell_type": "markdown",
   "id": "ae40c24b",
   "metadata": {},
   "source": [
    "**Separating labels column from training set** "
   ]
  },
  {
   "cell_type": "code",
   "execution_count": 23,
   "id": "1b4c276c",
   "metadata": {},
   "outputs": [],
   "source": [
    "df_train.drop(df_train.columns[[784]],axis=1,inplace=True)"
   ]
  },
  {
   "cell_type": "code",
   "execution_count": 24,
   "id": "6659e612",
   "metadata": {},
   "outputs": [
    {
     "data": {
      "text/html": [
       "<div>\n",
       "<style scoped>\n",
       "    .dataframe tbody tr th:only-of-type {\n",
       "        vertical-align: middle;\n",
       "    }\n",
       "\n",
       "    .dataframe tbody tr th {\n",
       "        vertical-align: top;\n",
       "    }\n",
       "\n",
       "    .dataframe thead th {\n",
       "        text-align: right;\n",
       "    }\n",
       "</style>\n",
       "<table border=\"1\" class=\"dataframe\">\n",
       "  <thead>\n",
       "    <tr style=\"text-align: right;\">\n",
       "      <th></th>\n",
       "      <th>0</th>\n",
       "      <th>1</th>\n",
       "      <th>2</th>\n",
       "      <th>3</th>\n",
       "      <th>4</th>\n",
       "      <th>5</th>\n",
       "      <th>6</th>\n",
       "      <th>7</th>\n",
       "      <th>8</th>\n",
       "      <th>9</th>\n",
       "      <th>...</th>\n",
       "      <th>774</th>\n",
       "      <th>775</th>\n",
       "      <th>776</th>\n",
       "      <th>777</th>\n",
       "      <th>778</th>\n",
       "      <th>779</th>\n",
       "      <th>780</th>\n",
       "      <th>781</th>\n",
       "      <th>782</th>\n",
       "      <th>783</th>\n",
       "    </tr>\n",
       "  </thead>\n",
       "  <tbody>\n",
       "    <tr>\n",
       "      <th>0</th>\n",
       "      <td>255</td>\n",
       "      <td>255</td>\n",
       "      <td>255</td>\n",
       "      <td>255</td>\n",
       "      <td>255</td>\n",
       "      <td>255</td>\n",
       "      <td>255</td>\n",
       "      <td>255</td>\n",
       "      <td>0</td>\n",
       "      <td>0</td>\n",
       "      <td>...</td>\n",
       "      <td>0</td>\n",
       "      <td>0</td>\n",
       "      <td>0</td>\n",
       "      <td>0</td>\n",
       "      <td>0</td>\n",
       "      <td>0</td>\n",
       "      <td>0</td>\n",
       "      <td>0</td>\n",
       "      <td>0</td>\n",
       "      <td>0</td>\n",
       "    </tr>\n",
       "    <tr>\n",
       "      <th>1</th>\n",
       "      <td>0</td>\n",
       "      <td>0</td>\n",
       "      <td>0</td>\n",
       "      <td>0</td>\n",
       "      <td>0</td>\n",
       "      <td>0</td>\n",
       "      <td>0</td>\n",
       "      <td>0</td>\n",
       "      <td>0</td>\n",
       "      <td>0</td>\n",
       "      <td>...</td>\n",
       "      <td>0</td>\n",
       "      <td>0</td>\n",
       "      <td>0</td>\n",
       "      <td>0</td>\n",
       "      <td>0</td>\n",
       "      <td>0</td>\n",
       "      <td>0</td>\n",
       "      <td>0</td>\n",
       "      <td>0</td>\n",
       "      <td>0</td>\n",
       "    </tr>\n",
       "    <tr>\n",
       "      <th>2</th>\n",
       "      <td>0</td>\n",
       "      <td>0</td>\n",
       "      <td>0</td>\n",
       "      <td>0</td>\n",
       "      <td>0</td>\n",
       "      <td>0</td>\n",
       "      <td>0</td>\n",
       "      <td>0</td>\n",
       "      <td>0</td>\n",
       "      <td>0</td>\n",
       "      <td>...</td>\n",
       "      <td>0</td>\n",
       "      <td>0</td>\n",
       "      <td>0</td>\n",
       "      <td>0</td>\n",
       "      <td>0</td>\n",
       "      <td>0</td>\n",
       "      <td>0</td>\n",
       "      <td>0</td>\n",
       "      <td>0</td>\n",
       "      <td>0</td>\n",
       "    </tr>\n",
       "    <tr>\n",
       "      <th>3</th>\n",
       "      <td>0</td>\n",
       "      <td>0</td>\n",
       "      <td>255</td>\n",
       "      <td>0</td>\n",
       "      <td>0</td>\n",
       "      <td>0</td>\n",
       "      <td>0</td>\n",
       "      <td>0</td>\n",
       "      <td>0</td>\n",
       "      <td>0</td>\n",
       "      <td>...</td>\n",
       "      <td>0</td>\n",
       "      <td>0</td>\n",
       "      <td>0</td>\n",
       "      <td>0</td>\n",
       "      <td>0</td>\n",
       "      <td>0</td>\n",
       "      <td>0</td>\n",
       "      <td>0</td>\n",
       "      <td>0</td>\n",
       "      <td>0</td>\n",
       "    </tr>\n",
       "    <tr>\n",
       "      <th>4</th>\n",
       "      <td>255</td>\n",
       "      <td>255</td>\n",
       "      <td>255</td>\n",
       "      <td>255</td>\n",
       "      <td>255</td>\n",
       "      <td>255</td>\n",
       "      <td>255</td>\n",
       "      <td>255</td>\n",
       "      <td>255</td>\n",
       "      <td>255</td>\n",
       "      <td>...</td>\n",
       "      <td>0</td>\n",
       "      <td>0</td>\n",
       "      <td>0</td>\n",
       "      <td>0</td>\n",
       "      <td>0</td>\n",
       "      <td>0</td>\n",
       "      <td>0</td>\n",
       "      <td>0</td>\n",
       "      <td>0</td>\n",
       "      <td>0</td>\n",
       "    </tr>\n",
       "  </tbody>\n",
       "</table>\n",
       "<p>5 rows × 784 columns</p>\n",
       "</div>"
      ],
      "text/plain": [
       "   0    1    2    3    4    5    6    7    8    9    ...  774  775  776  777  \\\n",
       "0  255  255  255  255  255  255  255  255    0    0  ...    0    0    0    0   \n",
       "1    0    0    0    0    0    0    0    0    0    0  ...    0    0    0    0   \n",
       "2    0    0    0    0    0    0    0    0    0    0  ...    0    0    0    0   \n",
       "3    0    0  255    0    0    0    0    0    0    0  ...    0    0    0    0   \n",
       "4  255  255  255  255  255  255  255  255  255  255  ...    0    0    0    0   \n",
       "\n",
       "   778  779  780  781  782  783  \n",
       "0    0    0    0    0    0    0  \n",
       "1    0    0    0    0    0    0  \n",
       "2    0    0    0    0    0    0  \n",
       "3    0    0    0    0    0    0  \n",
       "4    0    0    0    0    0    0  \n",
       "\n",
       "[5 rows x 784 columns]"
      ]
     },
     "execution_count": 24,
     "metadata": {},
     "output_type": "execute_result"
    }
   ],
   "source": [
    "df_train.head()"
   ]
  },
  {
   "cell_type": "markdown",
   "id": "68d70374",
   "metadata": {},
   "source": [
    "**Importing necessary dependencies** "
   ]
  },
  {
   "cell_type": "code",
   "execution_count": 25,
   "id": "cf27cd7d",
   "metadata": {},
   "outputs": [],
   "source": [
    "np.random.seed(1212)\n",
    "import keras\n",
    "from keras.layers import *\n",
    "from keras import optimizers\n",
    "from keras.models import Model\n",
    "from keras.layers import Dense\n",
    "from keras import backend as K\n",
    "from keras.layers import Dropout\n",
    "from keras.layers import Flatten\n",
    "from keras.utils import np_utils\n",
    "from keras.models import Sequential\n",
    "from keras.layers import Input\n",
    "from keras.layers.convolutional import Conv2D\n",
    "from keras.layers.convolutional import MaxPooling2D"
   ]
  },
  {
   "cell_type": "markdown",
   "id": "69ee6536",
   "metadata": {},
   "source": [
    "**Transforming Training Set**"
   ]
  },
  {
   "cell_type": "code",
   "execution_count": 26,
   "id": "3c29259e",
   "metadata": {},
   "outputs": [],
   "source": [
    "l = []\n",
    "for i in range(len(data)):\n",
    "    l.append(np.array(df_train[i:i+1]).reshape(28, 28, 1))"
   ]
  },
  {
   "cell_type": "markdown",
   "id": "30783506",
   "metadata": {},
   "source": [
    "**Creating the CNN Model**"
   ]
  },
  {
   "cell_type": "code",
   "execution_count": 27,
   "id": "151b405b",
   "metadata": {},
   "outputs": [],
   "source": [
    "model = Sequential()\n",
    "model.add(Conv2D(30, (5, 5), input_shape = (28, 28, 1), activation= \"relu\"))\n",
    "model.add(MaxPooling2D(pool_size = (2, 2)))\n",
    "model.add(Conv2D(15, (3,3), activation = \"relu\"))\n",
    "model.add(MaxPooling2D(pool_size = (2, 2)))\n",
    "model.add(Dropout(0.2))\n",
    "model.add(Flatten())\n",
    "model.add(Dense(128, activation = \"relu\"))\n",
    "model.add(Dense(50, activation = \"relu\"))\n",
    "model.add(Dense(13, activation = \"softmax\"))\n",
    "\n",
    "model.compile(optimizer = \"adam\", loss = \"binary_crossentropy\", metrics = [\"accuracy\"], )"
   ]
  },
  {
   "cell_type": "markdown",
   "id": "1a8197e3",
   "metadata": {},
   "source": [
    "**Training the Model**"
   ]
  },
  {
   "cell_type": "code",
   "execution_count": 28,
   "id": "5b09d754",
   "metadata": {},
   "outputs": [
    {
     "name": "stdout",
     "output_type": "stream",
     "text": [
      "Epoch 1/10\n",
      "208/208 [==============================] - 36s 68ms/step - loss: 0.4997 - accuracy: 0.4181 - val_loss: 0.7481 - val_accuracy: 0.1857\n",
      "Epoch 2/10\n",
      "208/208 [==============================] - 12s 60ms/step - loss: 0.0566 - accuracy: 0.8928 - val_loss: 0.8653 - val_accuracy: 0.2024\n",
      "Epoch 3/10\n",
      "208/208 [==============================] - 14s 65ms/step - loss: 0.0339 - accuracy: 0.9418 - val_loss: 0.9944 - val_accuracy: 0.2186\n",
      "Epoch 4/10\n",
      "208/208 [==============================] - 12s 59ms/step - loss: 0.0242 - accuracy: 0.9586 - val_loss: 1.0766 - val_accuracy: 0.2212\n",
      "Epoch 5/10\n",
      "208/208 [==============================] - 12s 58ms/step - loss: 0.0199 - accuracy: 0.9669 - val_loss: 1.1343 - val_accuracy: 0.2236\n",
      "Epoch 6/10\n",
      "208/208 [==============================] - 12s 60ms/step - loss: 0.0153 - accuracy: 0.9751 - val_loss: 1.1581 - val_accuracy: 0.2260\n",
      "Epoch 7/10\n",
      "208/208 [==============================] - 12s 60ms/step - loss: 0.0131 - accuracy: 0.9800 - val_loss: 1.0660 - val_accuracy: 0.2262\n",
      "Epoch 8/10\n",
      "208/208 [==============================] - 13s 62ms/step - loss: 0.0110 - accuracy: 0.9828 - val_loss: 1.1759 - val_accuracy: 0.2281\n",
      "Epoch 9/10\n",
      "208/208 [==============================] - 12s 59ms/step - loss: 0.0101 - accuracy: 0.9848 - val_loss: 1.1270 - val_accuracy: 0.2279\n",
      "Epoch 10/10\n",
      "208/208 [==============================] - 13s 62ms/step - loss: 0.0087 - accuracy: 0.9869 - val_loss: 1.2312 - val_accuracy: 0.2280\n"
     ]
    },
    {
     "data": {
      "text/plain": [
       "<keras.callbacks.History at 0x25e6e8639d0>"
      ]
     },
     "execution_count": 28,
     "metadata": {},
     "output_type": "execute_result"
    }
   ],
   "source": [
    "model.fit(np.array(l), cat, validation_split=0.2, epochs=10, batch_size=200)"
   ]
  },
  {
   "cell_type": "markdown",
   "id": "a9f1f27e",
   "metadata": {},
   "source": [
    "**Testing the Model**"
   ]
  },
  {
   "cell_type": "code",
   "execution_count": 29,
   "id": "d834a030",
   "metadata": {},
   "outputs": [],
   "source": [
    "img = cv2.imread(r\"C:\\Users\\DELL\\Desktop\\final_test1.jpg\", cv2.IMREAD_GRAYSCALE)\n",
    "cv2.imshow(\"wo\", img)\n",
    "cv2.waitKey(0)\n",
    "cv2.destroyAllWindows()\n",
    "\n",
    "if img is not None:\n",
    "    img =~img\n",
    "    _, thresh = cv2.threshold(img, 127, 255, cv2.THRESH_BINARY)\n",
    "    ctrs, _ = cv2.findContours(thresh, cv2.RETR_TREE, cv2.CHAIN_APPROX_SIMPLE)\n",
    "    cnt=sorted(ctrs, key=lambda ctr: cv2.boundingRect(ctr)[0])\n",
    "    train_data = []\n",
    "    rects = []\n",
    "    for c in cnt:\n",
    "        x, y, w, h = cv2.boundingRect(c)\n",
    "        rect = [x, y, w, h]\n",
    "        rects.append(rect)\n",
    "    \n",
    "    bool_rect = []\n",
    "    for r in rects:\n",
    "        l = []\n",
    "        for rec in rects:\n",
    "            flag = 0\n",
    "            if rec!= r:\n",
    "                if r[0]<(rec[0]+rec[2]+10) and rec[0]<(r[0]+r[2]+10) and r[1]<(rec[1]+rec[3]+10) and rec[1]<(r[1]+r[3]+10):\n",
    "                    flag = 1\n",
    "                l.append(flag)\n",
    "            if rec == r:\n",
    "                l.append(0)\n",
    "        bool_rect.append(l)\n",
    "        \n",
    "    dump_rect=[]\n",
    "    for i in range(0,len(cnt)):\n",
    "        for j in range(0,len(cnt)):\n",
    "            if bool_rect[i][j]==1:\n",
    "                area1=rects[i][2]*rects[i][3]\n",
    "                area2=rects[j][2]*rects[j][3]\n",
    "                if(area1==min(area1,area2)):\n",
    "                    dump_rect.append(rects[i])\n",
    "        \n",
    "    final_rect = [i for i in rects if i not in dump_rect]\n",
    "    \n",
    "    for r in final_rect:\n",
    "        x = r[0]\n",
    "        y = r[1]\n",
    "        w = r[2]\n",
    "        h = r[3]\n",
    "        im_crop = thresh[y:(y+h+10), x:(x+w+10)]\n",
    "\n",
    "        im_resize = cv2.resize(im_crop, (28, 28))\n",
    "        cv2.imshow(\"work\", im_resize)\n",
    "        cv2.waitKey(0)\n",
    "        cv2.destroyAllWindows()\n",
    "\n",
    "        im_resize=np.reshape(im_resize,(28,28,1))\n",
    "        train_data.append(im_resize)\n",
    "         "
   ]
  },
  {
   "cell_type": "markdown",
   "id": "cd06d7ea",
   "metadata": {},
   "source": [
    "**Printing the Equation written on test image**"
   ]
  },
  {
   "cell_type": "code",
   "execution_count": 30,
   "id": "e64fe2e0",
   "metadata": {
    "scrolled": true
   },
   "outputs": [
    {
     "name": "stderr",
     "output_type": "stream",
     "text": [
      "C:\\Users\\DELL\\anaconda3\\lib\\site-packages\\keras\\engine\\sequential.py:450: UserWarning: `model.predict_classes()` is deprecated and will be removed after 2021-01-01. Please use instead:* `np.argmax(model.predict(x), axis=-1)`,   if your model does multi-class classification   (e.g. if it uses a `softmax` last-layer activation).* `(model.predict(x) > 0.5).astype(\"int32\")`,   if your model does binary classification   (e.g. if it uses a `sigmoid` last-layer activation).\n",
      "  warnings.warn('`model.predict_classes()` is deprecated and '\n"
     ]
    },
    {
     "name": "stdout",
     "output_type": "stream",
     "text": [
      "7+3\n"
     ]
    }
   ],
   "source": [
    "s=''\n",
    "for i in range(len(train_data)):\n",
    "    train_data[i]=np.array(train_data[i])\n",
    "    train_data[i]=np.reshape(train_data[i], (28,28,1))\n",
    "    train_data[i] = np.expand_dims(train_data[i], axis = 0)\n",
    "    result = model.predict_classes(train_data[i])\n",
    "    \n",
    "    if(result[0]==10):\n",
    "        s=s+'-'\n",
    "    if(result[0]==11):\n",
    "        s=s+'+'\n",
    "    if(result[0]==12):\n",
    "        s=s+'*'\n",
    "    if(result[0]==0):\n",
    "        s=s+'0'\n",
    "    if(result[0]==1):\n",
    "        s=s+'1'\n",
    "    if(result[0]==2):\n",
    "        s=s+'2'\n",
    "    if(result[0]==3):\n",
    "        s=s+'3'\n",
    "    if(result[0]==4):\n",
    "        s=s+'4'\n",
    "    if(result[0]==5):\n",
    "        s=s+'5'\n",
    "    if(result[0]==6):\n",
    "        s=s+'6'\n",
    "    if(result[0]==7):\n",
    "        s=s+'7'\n",
    "    if(result[0]==8):\n",
    "        s=s+'8'\n",
    "    if(result[0]==9):\n",
    "        s=s+'9'\n",
    "    \n",
    "print(s)"
   ]
  },
  {
   "cell_type": "markdown",
   "id": "5af2ab5b",
   "metadata": {},
   "source": [
    "**Evaluating the Equation**"
   ]
  },
  {
   "cell_type": "code",
   "execution_count": 31,
   "id": "e74cb10d",
   "metadata": {},
   "outputs": [
    {
     "data": {
      "text/plain": [
       "10"
      ]
     },
     "execution_count": 31,
     "metadata": {},
     "output_type": "execute_result"
    }
   ],
   "source": [
    "eval(s)"
   ]
  }
 ],
 "metadata": {
  "kernelspec": {
   "display_name": "Python 3",
   "language": "python",
   "name": "python3"
  },
  "language_info": {
   "codemirror_mode": {
    "name": "ipython",
    "version": 3
   },
   "file_extension": ".py",
   "mimetype": "text/x-python",
   "name": "python",
   "nbconvert_exporter": "python",
   "pygments_lexer": "ipython3",
   "version": "3.8.8"
  }
 },
 "nbformat": 4,
 "nbformat_minor": 5
}
